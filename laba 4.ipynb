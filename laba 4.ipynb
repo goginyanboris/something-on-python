{
 "cells": [
  {
   "cell_type": "markdown",
   "metadata": {},
   "source": [
    "Решить уравнение методами половинного деления, простой итерации, Ньютона и секущих. Если корней несколько,\n",
    "выберете любой нетривиальный.\n",
    "f(x) = x * log2(x+2) + x^2 - 1"
   ]
  },
  {
   "cell_type": "markdown",
   "metadata": {},
   "source": [
    "Метод половинного деления (дихотомии) состоит в следующем. \n",
    "\n",
    "1)Определяем начальное значение x= (a+b)/2 (как результат деления интервала пополам). \n",
    "\n",
    "2)Вычисляем F(x). \n",
    "\n",
    "3)Если F(x)>0 и F(a)>0 или F(x)<0 и F(a)<0 (т.е. перемена знака функции F(x) не произошла), \n",
    "то задаем a=x (т.е. перемещаем левую границу интервала в середину), уменьшая интервал вдвое и \n",
    "исключая при этом левую половину, на которой либо нет корней, либо есть четное число корней, \n",
    "иначе задаем b=x (исключаем правую половину интервала).\n",
    "\n",
    "4)Проверяем условие b-a<eps, если оно выполняется, то возвращаемся к п.1. \n",
    "с новыми значениями границ интервала, иначе заканчиваем вычисления и считаем, что последнее значение x и будет \n",
    "корнем уравнения с заданной точностью eps. "
   ]
  },
  {
   "cell_type": "code",
   "execution_count": 2,
   "metadata": {},
   "outputs": [
    {
     "data": {
      "image/png": "[encoded data removed]",
      "text/plain": [
       "<Figure size 432x288 with 1 Axes>"
      ]
     },
     "metadata": {
      "needs_background": "light"
     },
     "output_type": "display_data"
    }
   ],
   "source": [
    "import numpy as np\n",
    "import matplotlib.pyplot as plt\n",
    "import math\n",
    " \n",
    "f = lambda x: x * math.log(x+2)/math.log(2) + x**2 - 1\n",
    "\n",
    "x = np.linspace(-1.9, 2, 200)\n",
    "\n",
    "y = [f(i) for i in x]\n",
    "plt.plot(x,y)\n",
    "plt.plot(x,np.zeros(len(x)))\n",
    "plt.grid()\n",
    "plt.show()"
   ]
  },
  {
   "cell_type": "code",
   "execution_count": 3,
   "metadata": {},
   "outputs": [
    {
     "name": "stdout",
     "output_type": "stream",
     "text": [
      "Метод половинного деления\n",
      "Количество итераций: 10\n",
      "Количество итераций: 10\n",
      "x1 =  0.5341796875 x2 =  -1.0009765625\n",
      "f(x1)=  0.001960044314109455 f(x2)=  0.0033650254624395526\n"
     ]
    }
   ],
   "source": [
    "import math\n",
    "\n",
    "#f = lambda x: x * np.log2(x+2) + x**2 - 1\n",
    "\n",
    "def showans(x, f):\n",
    "    print(\"x1 = \", x[0], \"x2 = \", x[1] )\n",
    "    print(\"f(x1)= \", f[0], \"f(x2)= \", f[1])\n",
    "\n",
    "def MPD(a, b, eps=0.000001):\n",
    "    iteration = 0\n",
    "    while abs(b - a) > eps:\n",
    "        iteration += 1\n",
    "        x = (a + b) / 2\n",
    "        fx = f(x)\n",
    "        fa = f(a)\n",
    "        if (fx < 0 and fa < 0) or (fx > 0 and fa > 0):\n",
    "            a = x\n",
    "        else:\n",
    "            b = x\n",
    "    print(\"Количество итераций:\", iteration)\n",
    "    return x\n",
    " \n",
    "# first root on [0, 1]\n",
    "# second root on [-1.5, -0.5]\n",
    "fr1 = [0, 1]\n",
    "fr2 = [-1.5, -0.5]\n",
    "e = 0.001 # точность\n",
    "print(\"Метод половинного деления\")\n",
    "x = [MPD(fr1[0], fr1[1], e), MPD(fr2[0], fr2[1], e)]\n",
    "func = [f(x[0]), f(x[1])]\n",
    "showans(x, func)"
   ]
  },
  {
   "cell_type": "code",
   "execution_count": 4,
   "metadata": {},
   "outputs": [
    {
     "name": "stdout",
     "output_type": "stream",
     "text": [
      "Метод Ньютона\n",
      "Количество итераций: 2\n",
      "Количество итераций: 0\n",
      "x1 =  0.533457430348866 x2 =  -1.0\n",
      "f(x1)=  6.374321941393646e-07 f(x2)=  0.0\n"
     ]
    }
   ],
   "source": [
    "# производная функции f\n",
    "derivativef = lambda x: x * (1/(x * math.log(2) + math.log(4)) + 2) + math.log(x+2)/math.log(2)\n",
    "\n",
    "def newton(a, b, eps):\n",
    "    iteration = 0\n",
    "    # print(eps)\n",
    "    x = (a+b)/2\n",
    "    buf = x - f(x)/derivativef(x)\n",
    "    while abs(x - buf) > eps:\n",
    "        iteration +=1\n",
    "        buf = x\n",
    "        x = x - f(x)/derivativef(x)\n",
    "    print(\"Количество итераций:\", iteration)\n",
    "    return x\n",
    "                              \n",
    "print(\"Метод Ньютона\")\n",
    "e= 0.001 # точность\n",
    "x = [newton(fr1[0], fr1[1], e), newton(fr2[0], fr2[1], e)]\n",
    "func = [f(x[0]), f(x[1])]\n",
    "showans(x, func)"
   ]
  },
  {
   "cell_type": "code",
   "execution_count": 16,
   "metadata": {},
   "outputs": [
    {
     "name": "stdout",
     "output_type": "stream",
     "text": [
      "Метод секущих\n",
      "Количество итераций: 6\n",
      "Количество итераций: 17\n",
      "x1 =  0.5334032990546811 x2 =  -0.9997252060884021\n",
      "f(x1)=  -0.00014615157824193759 f(x2)=  -0.0009457927394532772\n"
     ]
    }
   ],
   "source": [
    "def secant(a, b, eps):\n",
    "    iteration = 0\n",
    "    # print(eps)\n",
    "    x = a\n",
    "    x_prev = a + 2 * eps\n",
    "    while abs(x - x_prev) > eps:\n",
    "        iteration +=1\n",
    "        x_prev = x\n",
    "        x = x - f(x)*(x - b) / (f(x) - f(b))\n",
    "    print(\"Количество итераций:\", iteration)\n",
    "    return x   \n",
    "\n",
    "print(\"Метод секущих\")\n",
    "e= 0.001 # точность\n",
    "x = [secant(fr1[0], fr1[1], e), secant(fr2[0], fr2[1], e)]\n",
    "func = [f(x[0]), f(x[1])]\n",
    "showans(x, func)"
   ]
  },
  {
   "cell_type": "code",
   "execution_count": 6,
   "metadata": {
    "scrolled": true
   },
   "outputs": [
    {
     "name": "stdout",
     "output_type": "stream",
     "text": [
      "Метод простой итерации\n",
      "Количество итераций: 5\n",
      "Количество итераций: 4\n",
      "x1 =  0.533457195304146 x2 =  -1.0000001977515183\n",
      "f(x1)=  3.718092500548664e-11 f(x2)=  6.807982950718383e-07\n"
     ]
    }
   ],
   "source": [
    "phi = lambda x: x - f(x)/derivativef(x) \n",
    "\n",
    "def simpleit(a, b, eps):\n",
    "    iteration = 0\n",
    "    # print(eps)\n",
    "    x = a\n",
    "    buf = a + 2*eps\n",
    "    while abs(x - buf) > eps:\n",
    "        iteration +=1\n",
    "        buf = x\n",
    "        x = phi(x)\n",
    "    #print(x)\n",
    "    print(\"Количество итераций:\", iteration)\n",
    "    return x\n",
    "\n",
    "print(\"Метод простой итерации\")\n",
    "e= 0.001 # точность\n",
    "x = [simpleit(fr1[0], fr1[1], e), simpleit(fr2[0], fr2[1], e)]\n",
    "func = [f(x[0]), f(x[1])]\n",
    "showans(x, func)"
   ]
  },
  {
   "cell_type": "code",
   "execution_count": 18,
   "metadata": {},
   "outputs": [
    {
     "data": {
      "image/png": "[encoded data removed]",
      "text/plain": [
       "<Figure size 432x288 with 1 Axes>"
      ]
     },
     "metadata": {
      "needs_background": "light"
     },
     "output_type": "display_data"
    }
   ],
   "source": [
    "x = np.linspace(-1, 1, 200)\n",
    "y = [derivativef(i) for i in x]\n",
    "plt.plot(x,y)\n",
    "plt.plot(x,np.zeros(len(x)))\n",
    "plt.grid()\n",
    "plt.show()"
   ]
  },
  {
   "cell_type": "markdown",
   "metadata": {},
   "source": [
    "# Задание\n",
    "Найти на отрезке от [0, 1] найти максимум модуля производной от выражения phi(x) = x - f(x)/f'(x)"
   ]
  },
  {
   "cell_type": "markdown",
   "metadata": {},
   "source": [
    "Производная равна phi'(x) = 1 -  ( (f'(x))^2 - f(x)*f\"(x) )/ (f'(x))^2 = f(x)*f\"(x)/(f'(x))^2\n",
    "Наибольшее значение phi'(x) на [0, 1] принимает в точках phi\"(x) = 0 , 0< x <1 или phi(a) или phi(b)"
   ]
  },
  {
   "cell_type": "code",
   "execution_count": 21,
   "metadata": {},
   "outputs": [
    {
     "name": "stdout",
     "output_type": "stream",
     "text": [
      "     fun: -0.5986126920690643\n",
      " message: 'Solution found.'\n",
      "    nfev: 25\n",
      "  status: 0\n",
      " success: True\n",
      "       x: 5.9608609865491405e-06\n"
     ]
    }
   ],
   "source": [
    "import scipy.optimize\n",
    "\n",
    "secderf = lambda x: -( math.log(2)*(2*(x**2 - 1) - (3*x**2 + 8*x + 1)* math.log(2 + x) + 2*(2 + x)**2 * math.log(2 + x)**2 ))/((2 + x)**2 * math.log(2 + x)**3)\n",
    "\n",
    "p = lambda x: f(x)*secderf(x)/derivativef(x)**2\n",
    "\n",
    "solution = scipy.optimize.minimize_scalar(lambda x: -p(x), bounds=[0,1], method='bounded')\n",
    "print(solution)\n"
   ]
  },
  {
   "cell_type": "code",
   "execution_count": 13,
   "metadata": {},
   "outputs": [
    {
     "data": {
      "image/png": "[encoded data removed]",
      "text/plain": [
       "<Figure size 432x288 with 1 Axes>"
      ]
     },
     "metadata": {
      "needs_background": "light"
     },
     "output_type": "display_data"
    }
   ],
   "source": [
    "x = np.linspace(0, 1, 200)\n",
    "y = [p(i) for i in x]\n",
    "plt.plot(x,y)\n",
    "plt.plot(x,np.zeros(len(x)))\n",
    "plt.grid()\n",
    "plt.show()"
   ]
  },
  {
   "cell_type": "code",
   "execution_count": 19,
   "metadata": {},
   "outputs": [
    {
     "data": {
      "image/png": "[encoded data removed]",
      "text/plain": [
       "<Figure size 432x288 with 1 Axes>"
      ]
     },
     "metadata": {
      "needs_background": "light"
     },
     "output_type": "display_data"
    }
   ],
   "source": [
    "x = np.linspace(-1.5, -0.5, 200)\n",
    "y = [p(i) for i in x]\n",
    "plt.plot(x,y)\n",
    "plt.plot(x,np.zeros(len(x)))\n",
    "plt.grid()\n",
    "plt.show()"
   ]
  },
  {
   "cell_type": "code",
   "execution_count": null,
   "metadata": {},
   "outputs": [],
   "source": []
  }
 ],
 "metadata": {
  "kernelspec": {
   "display_name": "Python 3",
   "language": "python",
   "name": "python3"
  },
  "language_info": {
   "codemirror_mode": {
    "name": "ipython",
    "version": 3
   },
   "file_extension": ".py",
   "mimetype": "text/x-python",
   "name": "python",
   "nbconvert_exporter": "python",
   "pygments_lexer": "ipython3",
   "version": "3.7.1"
  }
 },
 "nbformat": 4,
 "nbformat_minor": 2
}
