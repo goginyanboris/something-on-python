{
 "cells": [
  {
   "cell_type": "code",
   "execution_count": null,
   "metadata": {
    "collapsed": true
   },
   "outputs": [],
   "source": [
    "# Для таблично заданной функции путем решения нормальной системы Метода Наименьших Квадратов найти приближающие \n",
    "# многочлены 1-й, 2-й, 3-й степеней. Построить их графики\n",
    "# x = [-3.0, -2.0, -1.0, 0.0, 1.0, 2.0]\n",
    "# y = [0.04979, 0.13534, 0.36788, 1.0, 2.7183, 7.3891]"
   ]
  },
  {
   "cell_type": "code",
   "execution_count": null,
   "metadata": {
    "collapsed": true
   },
   "outputs": [],
   "source": [
    "# построить F1(x) = a0 + a1*x; F2(x) = a0 + a1*x + a2*(x**2);  F3(x) = a0 + a1*x + a2*(x**2) + a3*(x**3);\n",
    "# для F1 имеем n = 4; m = 1; f0 = 1; f1 = x\n",
    "# для F2 имеем n = 4; m = 2; f0 = 1; f1 = x; f2 = x**2\n",
    "# для F3 имеем n = 4; m = 3; f0 = 1; f1 = x; f2 = x**2; f3 = x**3\n",
    "# для определения коэффициентов составим систему уравнений"
   ]
  },
  {
   "cell_type": "code",
   "execution_count": 4,
   "metadata": {},
   "outputs": [
    {
     "name": "stdout",
     "output_type": "stream",
     "text": [
      "Введите степень m многочлена\n",
      "4\n",
      "6.0 -3.0 19.0 -27.0 115.0 | 11.660409999999999\n",
      "-3.0 19.0 -27.0 115.0 -243.0 | 16.70857\n",
      "19.0 -27.0 115.0 -243.0 859.0 | 33.63205\n",
      "-27.0 115.0 -243.0 859.0 -2187.0 | 59.03617\n",
      "115.0 -243.0 859.0 -2187.0 7075.0 | 127.51021\n",
      "\n",
      "1.0 -2.1130434782608694 7.469565217391304 -19.017391304347825 61.52173913043478 | 1.1087844347826088\n",
      "0.0 1.0 -0.7130852340936376 5.9627851140456185 -9.075630252100842 | 1.5354044447779112\n",
      "-0.0 -0.0 1.0 -2.275862068965516 10.862068965517233 | 0.43440043103448267\n",
      "-0.0 -0.0 -0.0 1.0 -2.8686868686868623 | 0.11975223484848539\n",
      "-0.0 -0.0 -0.0 -0.0 1.0 | 0.033619374999999896\n",
      "\n",
      "многочлен выглядит так:\n",
      "F(x)= 0.9704083333333315  +  0.9516163888888887 * x^ 1  +  0.5612560416666678 * x^ 2  +  0.21619569444444448 * x^ 3  +  0.033619374999999896 * x^ 4 "
     ]
    },
    {
     "data": {
      "image/png": "[encoded data removed]",
      "text/plain": [
       "<matplotlib.figure.Figure at 0x16c064ef8d0>"
      ]
     },
     "metadata": {},
     "output_type": "display_data"
    }
   ],
   "source": [
    "import matplotlib.pyplot as plt\n",
    "import numpy as np \n",
    "\n",
    "\n",
    "def sortmatrix (a, t):\n",
    "    row = a[t]\n",
    "    a = sorted(a, key=lambda row : abs(row[0]), reverse = True)\n",
    "    return a\n",
    "\n",
    "\n",
    "def gaus(a, m):\n",
    "    for t in range(len(a[0])-1):\n",
    "        a = sortmatrix(a, t) # сортируем\n",
    "        d = a[t][t]\n",
    "        for k in range(len(a[0])):\n",
    "            a[t][k] /= d\n",
    "        for k in range(t+1, len(a)):\n",
    "            p = a[k][t]/a[t][t]\n",
    "            for i in range(len(a[0])):\n",
    "                a[k][i] -= p * a[t][i]\n",
    "    return a \n",
    "\n",
    "\n",
    "def gramma(m, x):\n",
    "    n = len(x)\n",
    "    g = [[0 for i in range(m+1)] for j in range(m)]\n",
    "    for l in range(m):\n",
    "        for k in range(m):\n",
    "            for i in range(n):\n",
    "                g[l][k] += (x[i]**(l))*(x[i]**(k))\n",
    "        for j in range(n):\n",
    "            g[l][m] += (x[j]**(l))*y[j]\n",
    "    return g\n",
    "\n",
    "def ans(g):\n",
    "    m = len(g[0])-1\n",
    "    a = [0 for i in range(m)]\n",
    "    for i in range(m-1, -1, -1):\n",
    "        for j in range(m-1, i, -1):\n",
    "            g[i][m] -= a[j]*g[i][j]            \n",
    "        a[i] = g[i][m]/g[i][i]\n",
    "    return a\n",
    "    \n",
    "\n",
    "def OLS(x, y, m):\n",
    "    # находим матрицу грамма и правую часть по формулам\n",
    "    g = gramma(m, x)\n",
    "    for i in range(m):\n",
    "        for j in range(m):\n",
    "            print(g[i][j], end=' ')\n",
    "        print(\"|\", g[i][m])\n",
    "    print()\n",
    "    # методом гаусса решаем систему\n",
    "    g = gaus(g, m)\n",
    "    for i in range(m):\n",
    "        for j in range(m):\n",
    "            print(g[i][j], end=' ')\n",
    "        print(\"|\", g[i][m])\n",
    "    print()\n",
    "    a = ans(g)\n",
    "    #print(a)\n",
    "    return a\n",
    "\n",
    "def show(a):\n",
    "    print(\"многочлен выглядит так:\")\n",
    "    print(\"F(x)=\", end=\" \")\n",
    "    for i in range(m+1):\n",
    "        if i == 0:\n",
    "            print(a[i], end=\" \")\n",
    "        else:\n",
    "            print(\" + \", a[i],\"* x^\", i, end=\" \")\n",
    "            \n",
    "def function(a, x):\n",
    "    y = 0\n",
    "    for i in range(len(a)):\n",
    "        y += a[i] * (x**i)\n",
    "    return y\n",
    "\n",
    "def plotshow(x, y, a):\n",
    "    f_x = np.arange(x[0]+0.001, x[len(x)-1], 0.001) \n",
    "    f_y = [function(a, i) for i in f_x] \n",
    "    plt.plot(x, y,'o',f_x,f_y) \n",
    "    plt.grid(True)\n",
    "    plt.show()\n",
    "    \n",
    "x = [-3.0, -2.0, -1.0, 0.0, 1.0, 2.0]\n",
    "y = [0.04979, 0.13534, 0.36788, 1.0, 2.7183, 7.3891]\n",
    "print(\"Введите степень m многочлена\")\n",
    "m = int(input())\n",
    "a = OLS(x, y, m+1) # метод наименьших квадратов\n",
    "show(a)\n",
    "plotshow(x, y, a)\n",
    "    \n"
   ]
  },
  {
   "cell_type": "code",
   "execution_count": null,
   "metadata": {
    "collapsed": true
   },
   "outputs": [],
   "source": []
  }
 ],
 "metadata": {
  "kernelspec": {
   "display_name": "Python 3",
   "language": "python",
   "name": "python3"
  },
  "language_info": {
   "codemirror_mode": {
    "name": "ipython",
    "version": 3
   },
   "file_extension": ".py",
   "mimetype": "text/x-python",
   "name": "python",
   "nbconvert_exporter": "python",
   "pygments_lexer": "ipython3",
   "version": "3.6.2"
  }
 },
 "nbformat": 4,
 "nbformat_minor": 2
}
