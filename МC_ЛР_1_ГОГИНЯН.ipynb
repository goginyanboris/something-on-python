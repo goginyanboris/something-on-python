{
 "cells": [
  {
   "cell_type": "code",
   "execution_count": 38,
   "metadata": {
    "scrolled": false
   },
   "outputs": [
    {
     "name": "stdout",
     "output_type": "stream",
     "text": [
      "1\t2\t0\t1\t3\t1\t1\t1\t0\t0\t2\t1\t0\t3\t0\t\n",
      "1\t0\t0\t0\t0\t0\t0\t0\t1\t1\t2\t0\t0\t1\t1\t\n",
      "9\t0\t0\t2\t2\t0\t1\t0\t0\t6\t1\t0\t2\t0\t0\t\n",
      "0\t4\t3\t0\t2\t2\t0\t3\t1\t3\t0\t0\t1\t0\t0\t\n",
      "1\t0\t7\t0\t3\t1\t1\t2\t4\t0\t2\t1\t0\t0\t3\t\n",
      "0\t0\t1\t0\t2\t2\t0\t1\t0\t1\t5\t0\t1\t1\t0\t\n",
      "1\t0\t0\t0\t1\t0\t0\t2\t0\t5\t3\t2\t0\t0\t2\t\n",
      "0\t3\t0\t0\t1\t1\t2\t0\t0\t1\t0\t0\t0\t0\t4\t\n",
      "3\t0\t0\t0\t2\t0\t0\t1\t1\t0\t0\t0\t0\t0\t2\t\n",
      "0\t0\t4\t1\t0\t0\t3\t1\t2\t1\t2\t7\t0\t1\t3\t\n",
      "\n",
      "sort...\n",
      "\n",
      "0\t0\t0\t0\t0\t0\t0\t0\t0\t0\t0\t0\t0\t0\t0\t\n",
      "0\t0\t0\t0\t0\t0\t0\t0\t0\t0\t0\t0\t0\t0\t0\t\n",
      "0\t0\t0\t0\t0\t0\t0\t0\t0\t0\t0\t0\t0\t0\t0\t\n",
      "0\t0\t0\t0\t0\t0\t0\t0\t0\t0\t0\t0\t0\t0\t0\t\n",
      "0\t0\t0\t0\t0\t0\t0\t0\t0\t0\t0\t0\t0\t1\t1\t\n",
      "1\t1\t1\t1\t1\t1\t1\t1\t1\t1\t1\t1\t1\t1\t1\t\n",
      "1\t1\t1\t1\t1\t1\t1\t1\t1\t1\t1\t1\t1\t1\t1\t\n",
      "1\t1\t1\t2\t2\t2\t2\t2\t2\t2\t2\t2\t2\t2\t2\t\n",
      "2\t2\t2\t2\t2\t2\t2\t2\t3\t3\t3\t3\t3\t3\t3\t\n",
      "3\t3\t3\t3\t3\t4\t4\t4\t4\t5\t5\t6\t7\t7\t9\t\n",
      "\n",
      "Выборка [0, 1, 2, 3, 4, 5, 6, 7, 9]\n",
      "Частота [73, 35, 20, 12, 4, 2, 1, 2, 1]\n",
      "Относительная частота [0.4866666666666667, 0.23333333333333334, 0.13333333333333333, 0.08, 0.02666666666666667, 0.013333333333333334, 0.006666666666666667, 0.013333333333333334, 0.006666666666666667]\n",
      "Вероятности  [0.48, 0.2496, 0.12979200000000002, 0.06749184, 0.0350957568, 0.018249793536, 0.009489892638720002, 0.004934744172134401, 0.0025660669695098883, 0.0013343548241451422]\n"
     ]
    },
    {
     "data": {
      "image/png": "[encoded data removed]",
      "text/plain": [
       "<Figure size 432x288 with 1 Axes>"
      ]
     },
     "metadata": {
      "needs_background": "light"
     },
     "output_type": "display_data"
    },
    {
     "name": "stdout",
     "output_type": "stream",
     "text": [
      "y= [0, 0.99, nan, 1.01, 1.99, nan, 2.01, 2.99, nan, 3.01, 3.99, nan, 4.01, 4.99, nan, 5.01, 5.99, nan, 6.01, 6.99, nan, 7.01, 7.99, nan, 8.01, 9.01]\n",
      "Эмпирическая функция распределения  [0.4866666666666667, 0.4866666666666667, 0, 0.72, 0.72, 0, 0.8533333333333333, 0.8533333333333333, 0, 0.9333333333333332, 0.9333333333333332, 0, 0.9599999999999999, 0.9599999999999999, 0, 0.9733333333333332, 0.9733333333333332, 0, 0.9799999999999999, 0.9799999999999999, 0, 0.9933333333333332, 0.9933333333333332, 0, 0.9999999999999999, 0.9999999999999999]\n"
     ]
    },
    {
     "data": {
      "image/png": "[encoded data removed]",
      "text/plain": [
       "<Figure size 432x288 with 1 Axes>"
      ]
     },
     "metadata": {
      "needs_background": "light"
     },
     "output_type": "display_data"
    },
    {
     "name": "stdout",
     "output_type": "stream",
     "text": [
      "Эмпирическая функция распределения  [0, 0.4866666666666667, 0.72, 0.8533333333333333, 0.9333333333333332, 0.9599999999999999, 0.9733333333333332, 0.9799999999999999, 0.9933333333333332, 0.9999999999999999]\n",
      "Выборочное среднее  1.1066666666666667\n",
      "Выборочная дисперсия  2.455288888888889\n",
      "Выборочное среднее квадратическое отклонение  1.5669361470362757\n",
      "Мода  0\n",
      "Выборочная медиана  2\n",
      "Выборочный коэффициент асимметрии  2.1313132005153\n",
      "Выборочный коэффициент эксцесса  5.718727821189985\n"
     ]
    }
   ],
   "source": [
    "# узнать про условие выборочной моды, дописать ассиметрию и эксцесс\n",
    "import numpy\n",
    "import math\n",
    "import matplotlib.pyplot as plt\n",
    "\n",
    "def selav_kfunc(selection, relative_frequency, k=1):\n",
    "    selective_average = 0\n",
    "    for i in range(len(selection)):\n",
    "        selective_average += (selection[i]**k) * relative_frequency[i]\n",
    "    return selective_average\n",
    "\n",
    "\n",
    "m= 5 + 38 % 17\n",
    "p= 0.1 + 0.01*38\n",
    "q=1-p\n",
    "l= 0.7 + 0.07*38;\n",
    "length = 150\n",
    "bin_distrib = numpy.random.binomial(m, p, length) # m=9, p=0.49, length=150 numbers\n",
    "#print(bin_distrib)\n",
    "geom_distrib = numpy.random.geometric(p, length);\n",
    "#print(geom_distrib)\n",
    "pois_distrib = numpy.random.poisson(l, length);\n",
    "#print(pois_distrib)\n",
    "\n",
    "\n",
    "poisflag = 0\n",
    "binomflag = 0\n",
    "geomflag = 1\n",
    "\n",
    "if binomflag:\n",
    "    #биномиальное\n",
    "    distrib = bin_distrib\n",
    "else:\n",
    "    if geomflag:\n",
    "        # geometric\n",
    "        distrib = geom_distrib\n",
    "    else:\n",
    "        # poisson\n",
    "        distrib = pois_distrib\n",
    "\n",
    "\n",
    "#distrib = numpy.sort(distrib)\n",
    "\n",
    "    \n",
    "\n",
    "#inp = list(map(int, input().split()))\n",
    "#print(numpy.sort(inp))\n",
    "\n",
    "distrib=geom_distrib\n",
    "for i in range(len(distrib)):\n",
    "    distrib[i]-=1\n",
    "\n",
    "for i in range(len(distrib)):\n",
    "    print(distrib[i], end=\"\\t\")\n",
    "    if (i+1)%15==0:\n",
    "        print()\n",
    "    \n",
    "distrib =numpy.sort(distrib)\n",
    "print(\"\\nsort...\\n\")\n",
    "\n",
    "for i in range(len(distrib)):\n",
    "    print(distrib[i], end=\"\\t\")\n",
    "    if (i+1)%15==0:\n",
    "        print()\n",
    "print()\n",
    "    \n",
    "selection=[distrib[0]]  # выборка\n",
    "frequency=[1]  # частота\n",
    "relative_frequency = [] # относительная частота\n",
    "k=0\n",
    "\n",
    "# получим выборку x*\n",
    "for i in range(length-1):\n",
    "    if distrib[i] != distrib[i+1]:\n",
    "        selection.append(distrib[i+1])\n",
    "        frequency.append(1)\n",
    "        k+=1\n",
    "    else:\n",
    "        frequency[k]+=1\n",
    "for i in range(len(frequency)):\n",
    "    relative_frequency.append(frequency[i]/length)\n",
    "# статистический ряд\n",
    "print(\"Выборка\", selection)\n",
    "print(\"Частота\", frequency)\n",
    "print(\"Относительная частота\", relative_frequency)\n",
    "\n",
    "#полигон относительных частот\n",
    "x=[]\n",
    "probability = []   \n",
    "if binomflag:\n",
    "    #биномиальное\n",
    "    for i in range(m+1):\n",
    "        x.append(i)\n",
    "        probability.append((math.factorial(m)/(math.factorial(m-i)*math.factorial(i)))*(p**i)*(q**(m-i)))\n",
    "else:\n",
    "    if geomflag:\n",
    "        # geometric\n",
    "        for i in range(m+1):\n",
    "            x.append(i)\n",
    "            probability.append((q**i)*p)\n",
    "    else:\n",
    "        # poisson\n",
    "        probability = []\n",
    "        for i in range(m+1):\n",
    "            x.append(i)\n",
    "            probability.append((l**i) * math.exp(-l)/math.factorial(i))\n",
    "\n",
    "print(\"Вероятности \", probability)\n",
    "\n",
    "plt.plot(x, probability, selection, relative_frequency) \n",
    "plt.xticks(x)\n",
    "plt.grid(True)\n",
    "plt.title(\"Полигон относительных частот\")\n",
    "plt.xlabel(\"x*\")\n",
    "plt.ylabel(\"n\")\n",
    "plt.show()\n",
    "\n",
    "#  эмпирическую функцию распределения\n",
    "\n",
    "def DistrFunc(x, wi):\n",
    "    ans = 0\n",
    "    for i in range(len(wi)):\n",
    "        if x >= i:\n",
    "            ans += wi[i]\n",
    "        else:\n",
    "            return ans\n",
    "    return ans \n",
    "\n",
    "y = [0]\n",
    "for i in range(1,len(relative_frequency)):\n",
    "    y.append(i-0.01)\n",
    "    y.append(numpy.nan)\n",
    "    y.append(i+0.01)\n",
    "y.append(y[-1]+1)\n",
    "\n",
    "print(\"y=\", y)\n",
    " \n",
    "emp_distrib_func =[DistrFunc(i, relative_frequency) for i in y]\n",
    "\n",
    "print(\"Эмпирическая функция распределения \", emp_distrib_func) \n",
    "\n",
    "plt.xticks(x)\n",
    "plt.plot(y, emp_distrib_func)\n",
    "plt.title(\"Эмпирическая функция распределения\")\n",
    "plt.xlabel(\"x*\")\n",
    "plt.ylabel(\"w\")\n",
    "plt.grid(True)\n",
    "plt.show()\n",
    "\n",
    "emp_distrib_func = [0]\n",
    "for i in range(len(relative_frequency)):\n",
    "    emp_distrib_func.append(emp_distrib_func[i] + relative_frequency[i])\n",
    "print(\"Эмпирическая функция распределения \", emp_distrib_func)\n",
    "    \n",
    "# Выборочное среднее\n",
    "print(\"Выборочное среднее \", selav_kfunc(selection, relative_frequency))\n",
    "\n",
    "# Выборочная дисперсия\n",
    "selective_disp = 0\n",
    "for i in range(len(selection)):\n",
    "    selective_disp += (selection[i]**2)*relative_frequency[i]\n",
    "selective_disp -= selav_kfunc(selection, relative_frequency)**2\n",
    "\n",
    "print(\"Выборочная дисперсия \", selective_disp)\n",
    "\n",
    "#Выборочное среднее квадратическое отклонение\n",
    "sample_standard_deviation = math.sqrt(selective_disp)\n",
    "print(\"Выборочное среднее квадратическое отклонение \", sample_standard_deviation)\n",
    "\n",
    "# Мода\n",
    "max = sorted(frequency, reverse=True)[0]\n",
    "index=[]\n",
    "for i in range(len(frequency)):\n",
    "    if frequency[i] == max:\n",
    "        index.append(i)\n",
    "\n",
    "if len(index) == 1:\n",
    "    mode = selection[index[0]]\n",
    "else:\n",
    "    flag = True\n",
    "    for i in range(len(index)-1):\n",
    "        if selection[i] != selection[i+1]:\n",
    "            flag = False\n",
    "    if flag:\n",
    "        mode = (selection[index[0]] + index[len(index)-1])/2\n",
    "    else:\n",
    "        mode = \"None\"\n",
    "print(\"Мода \", mode)\n",
    "    \n",
    "\n",
    "# Выборочная медиана\n",
    "i=0\n",
    "while(emp_distrib_func[i] <= 0.5):\n",
    "    if emp_distrib_func[i] == 0.5:\n",
    "        median = (selection[i] + selection[i+1])/2\n",
    "    else:\n",
    "        \n",
    "        if emp_distrib_func[i+1]>0.5:\n",
    "            median = selection[i+1]\n",
    "    i+=1\n",
    "print(\"Выборочная медиана \", median)\n",
    "\n",
    "#  Выборочный центральный момент k-ого порядка\n",
    "selav = []\n",
    "for i in range(4):\n",
    "    selav.append(selav_kfunc(selection, relative_frequency, i+1))\n",
    "    \n",
    "# Выборочный коэффициент асимметрии\n",
    "asymmetry_coeff= (selav[2] - 3*selav[1]*selav[0] + 2*(selav[0]**3))/(sample_standard_deviation**3)\n",
    "print(\"Выборочный коэффициент асимметрии \", asymmetry_coeff)\n",
    "\n",
    "# Выборочный коэффициент эксцесса\n",
    "coef_kurt= (selav[3] - 4*selav[2]*selav[0] + 6*selav[1]*(selav[0]**2) - 3*(selav[0]**4))/(sample_standard_deviation**4) - 3\n",
    "print(\"Выборочный коэффициент эксцесса \", coef_kurt)\n",
    "\n"
   ]
  },
  {
   "cell_type": "code",
   "execution_count": 9,
   "metadata": {},
   "outputs": [
    {
     "name": "stdout",
     "output_type": "stream",
     "text": [
      "3 0 0 0 1 0 1 0 0 0 1 1 3 0 1 1 0 1 3 2 2 0 0 0 3 0 1 0 3 2 0 0 0 2 0 2 3 1 0 3 2 0 0 1 1 0 0 3 3 0 1 2 0 1 0 4 0 4 0 0 3 1 3 0 0 0 0 2 1 1 3 2 3 0 2 0 1 4 2 0 3 4 0 0 3 0 2 0 1 0 1 3 0 0 1 0 3 0 0 2 0 4 1 4 0 0 0 3 3 1 0 0 0 0 3 0 1 0 3 2\n",
      "[0 0 0 0 0 0 0 0 0 0 0 0 0 0 0 0 0 0 0 0 0 0 0 0 0 0 0 0 0 0 0 0 0 0 0 0 0\n",
      " 0 0 0 0 0 0 0 0 0 0 0 0 0 0 0 0 0 0 0 1 1 1 1 1 1 1 1 1 1 1 1 1 1 1 1 1 1\n",
      " 1 1 1 1 1 2 2 2 2 2 2 2 2 2 2 2 2 2 2 3 3 3 3 3 3 3 3 3 3 3 3 3 3 3 3 3 3\n",
      " 3 3 3 4 4 4 4 4 4]\n"
     ]
    }
   ],
   "source": [
    "inp = list(map(int, input().split()))\n",
    "print(numpy.sort(inp))"
   ]
  },
  {
   "cell_type": "code",
   "execution_count": 99,
   "metadata": {},
   "outputs": [
    {
     "name": "stdout",
     "output_type": "stream",
     "text": [
      "4.32\n",
      "2.2464000000000004\n",
      "1.4987995196156156\n",
      "4.8\n",
      "4\n",
      "0.02668802563418121\n",
      "-0.013800106666666668\n",
      "\n",
      "0.007715277777777642 0.019845085470085396 0.009974649580775232 6.7883627842430405 -11.689764716794459\n"
     ]
    }
   ],
   "source": [
    "#Считаем теоретические значения для биномиального расп.\n",
    "#матожидание\n",
    "# Эмпирическая функция распределения  [0, 0.006666666666666667, 0.02, 0.12666666666666668, 0.2666666666666667, 0.52, 0.78, 0.9400000000000001, 0.9866666666666667, 1.0]\n",
    "print(m*p)\n",
    "#дисперсия\n",
    "print(m*p*q)\n",
    "# среднее квадратическое\n",
    "print(math.sqrt(m*p*q))\n",
    "# median\n",
    "if (m+1)*p % 10 == 0:\n",
    "    print((m+1)*p - 0.5)\n",
    "else:\n",
    "    print((m+1)*p)\n",
    "print(round(m*p))\n",
    "# коэфф ассиметрии\n",
    "print((q-p)/math.sqrt(m*p*q))\n",
    "#коэф эксцесса\n",
    "print((1-6*p*q)/m*p*q)\n",
    "print()\n",
    "# абсолютное/относительное отклонение\n",
    "print(abs(4.35333 - 4.32)/4.32,\n",
    "abs(2.20182 - 2.2464)/2.2464000000000004,\n",
    "abs(1.48385 - 1.4988)/1.4987995196156156,\n",
    "abs(-0.15448 - 0.026688)/0.02668802563418121,\n",
    "abs(-0.17512 + 0.0138)/-0.013800106666666668)"
   ]
  },
  {
   "cell_type": "code",
   "execution_count": 43,
   "metadata": {},
   "outputs": [
    {
     "name": "stdout",
     "output_type": "stream",
     "text": [
      "1.0833333333333335\n",
      "2.2569444444444446\n",
      "1.502313031443329\n",
      "1.0599772529606004\n",
      "2.1078607456558704\n",
      "6.443076923076923\n",
      "0.02334000000000014 0.19835000000000003 0.06462999999999997 0.02344999999999997 -0.7243500000000003\n",
      "0.02154461538461538 0.08788430769230768 0.043020328418443866 0.02212311625980868 0.11242299426934098\n"
     ]
    }
   ],
   "source": [
    "#Считаем теоретические значения для геометрическое расп.\n",
    "#матожидание\n",
    "print(q/p)\n",
    "print(q/p**2)\n",
    "print(math.sqrt(q)/p)\n",
    "if math.log(2)/math.log(q) % 10 == 0:\n",
    "    print(\"mediana = \", -math.log(2)/math.log(q) - 0.5)\n",
    "else:\n",
    "    print(-math.log(2)/math.log(q))\n",
    "print((2-p)/math.sqrt(q))\n",
    "print(6 + p**2/q)\n",
    "\n",
    "print(1.10667-1.08333,\n",
    "2.45529-2.25694,\n",
    "1.56694-1.50231,\n",
    "2.13131-2.10786,\n",
    "5.71873-6.44308) #/-0.013800106666666668)\n",
    "\n",
    "print(0.02334/1.0833333333333335,\n",
    "0.19835/2.2569444444444446,\n",
    "0.06463/1.502313031443329,\n",
    "0.02345/1.0599772529606004,\n",
    "0.72435/6.443076923076923)\n",
    "\n"
   ]
  },
  {
   "cell_type": "code",
   "execution_count": 124,
   "metadata": {},
   "outputs": [
    {
     "name": "stdout",
     "output_type": "stream",
     "text": [
      "1.8330302779823362\n",
      "3.687380952380953\n",
      "0.5455447255899809\n",
      "0.2976190476190476\n",
      "0.033330000000000304 0.4519500000000001 0.11942000000000008 0.11475999999999997 0.19582\n",
      "0.009919642857142858 0.13450892857142857 0.06515002727768686 0.21036037687428963 0.6579530945500974\n"
     ]
    }
   ],
   "source": [
    "print(math.sqrt(l))\n",
    "print(l + 1/3 - 0.02/l)\n",
    "print(l**(-0.5))\n",
    "print(l**(-1))\n",
    "\n",
    "#\n",
    "\n",
    "print(3.39333 - 3.36,\n",
    "3.81195 - 3.36,\n",
    "1.95242 - 1.833,\n",
    "0.6603 - 0.54554,\n",
    "abs(0.1018 - 0.29762))\n",
    "\n",
    "print(0.03333/3.36,\n",
    "0.45195/3.36,\n",
    "0.11942/1.833,\n",
    "0.11475999999999997/0.54554,\n",
    "0.19582/0.29762)\n"
   ]
  },
  {
   "cell_type": "code",
   "execution_count": 92,
   "metadata": {},
   "outputs": [
    {
     "name": "stdout",
     "output_type": "stream",
     "text": [
      "[0 1 1 2 2 2 2 2 2 2 2 2 2 2 2 2 2 2 2 3 3 3 3 3 3 3 3 3 3 3 3 3 3 3 3 3 3\n",
      " 3 3 3 4 4 4 4 4 4 4 4 4 4 4 4 4 4 4 4 4 4 4 4 4 4 4 4 4 4 4 4 4 4 4 4 4 4\n",
      " 4 4 4 4 5 5 5 5 5 5 5 5 5 5 5 5 5 5 5 5 5 5 5 5 5 5 5 5 5 5 5 5 5 5 5 5 5\n",
      " 5 5 5 5 5 5 6 6 6 6 6 6 6 6 6 6 6 6 6 6 6 6 6 6 6 6 6 6 6 6 7 7 7 7 7 7 7\n",
      " 8 8]\n"
     ]
    }
   ],
   "source": [
    "a=distrib\n",
    "print(a)\n",
    "    \n"
   ]
  },
  {
   "cell_type": "code",
   "execution_count": 113,
   "metadata": {},
   "outputs": [
    {
     "name": "stdout",
     "output_type": "stream",
     "text": [
      "[2 2 1 1 1 3 1 2 1 2 8 1 1 1 1 1 4 1 2 6 1 3 5 3 1 2 2 1 1 2 2 1 1 3 4 1 1\n",
      " 1 1 2 3 2 1 1 1 5 2 1 4 1 3 1 2 9 2 2 2 1 5 3 1 1 7 4 1 1 2 1 2 2 1 1 1 2\n",
      " 2 1 1 3 4 1 2 2 2 1 1 5 1 2 1 7 3 1 3 3 2 3 6 2 1 1 1 1 1 1 8 1 5 1 2 1 2\n",
      " 1 7 1 1 1 1 1 9 1 4 2 1 3 3 2 2 2 1 1 2 1 1 1 5 1 1 1 3 1 2 2 2 1 2 2 2 1\n",
      " 1 3]\n"
     ]
    }
   ],
   "source": [
    "print(b)"
   ]
  },
  {
   "cell_type": "code",
   "execution_count": 116,
   "metadata": {},
   "outputs": [
    {
     "name": "stdout",
     "output_type": "stream",
     "text": [
      "[1 3 2 3 4 3 7 3 3 3 6 2 3 4 2 3 2 5 2 5 2 4 1 3 2 3 4 3 7 3 2 4 1 7 3 4 0\n",
      " 4 5 1 3 3 2 2 4 2 4 7 7 3 5 3 6 3 4 2 3 0 1 1 7 3 4 2 3 3 6 6 2 1 1 1 3 5\n",
      " 1 2 5 4 1 4 6 9 7 0 4 1 4 6 4 3 8 4 2 4 8 1 1 5 6 4 2 2 3 3 5 4 3 6 3 3 3\n",
      " 4 2 9 0 3 3 3 4 4 7 6 3 2 5 1 2 3 5 3 1 0 4 4 4 1 1 8 5 4 1 2 4 2 3 2 1 7\n",
      " 2 2]\n"
     ]
    }
   ],
   "source": [
    "print(c)"
   ]
  },
  {
   "cell_type": "code",
   "execution_count": 133,
   "metadata": {},
   "outputs": [
    {
     "name": "stdout",
     "output_type": "stream",
     "text": [
      "Вероятности  bin [0.002779905883635713, 0.023094602725588997, 0.08527237929448245, 0.1836635861727314, 0.2543034270083973, 0.2347416249308283, 0.1444563845728174, 0.05714758071012556, 0.013187903240798205, 0.0013526054605946876]\n",
      "\n",
      "Вероятности  geom [0.48, 0.2496, 0.12979200000000002, 0.06749184, 0.0350957568, 0.018249793536, 0.009489892638720002, 0.004934744172134401, 0.0025660669695098883, 0.0013343548241451422]\n",
      "\n",
      "Вероятности  pois [0.03473525894473855, 0.11671047005432153, 0.1960735896912602, 0.2196024204542114, 0.18446603318153765, 0.1239611742979933, 0.06941825760687625, 0.03332076365130061, 0.013994720733546255, 0.005224695740523936]\n",
      "\n",
      "-0.0014052589447385508 0.016619529945678474 -0.022743589691260196 0.02706757954578859 0.002203966818462355 -0.0506311742979933 -0.009418257606876257 0.02667923634869939 0.006005279266453745 0.008105304259476063\n"
     ]
    }
   ],
   "source": [
    "#биномиальное\n",
    "probability = []\n",
    "for i in range(m+1):\n",
    "    x.append(i)\n",
    "    probability.append((math.factorial(m)/(math.factorial(m-i)*math.factorial(i)))*(p**i)*(q**(m-i)))\n",
    "    \n",
    "print(\"Вероятности \" + str(\" bin\"), probability, end=\"\\n\\n\")\n",
    "# geometric\n",
    "probability = []\n",
    "for i in range(m+1):\n",
    "    x.append(i)\n",
    "    probability.append((q**i)*p)\n",
    "print(\"Вероятности \" + str(\" geom\"), probability, end=\"\\n\\n\")\n",
    "# poisson\n",
    "probability = []\n",
    "for i in range(m+1):\n",
    "    x.append(i)\n",
    "    probability.append((l**i) * math.exp(-l)/math.factorial(i))\n",
    "print(\"Вероятности \" + str(\" pois\"), probability, end=\"\\n\\n\")\n",
    "\n",
    "\n",
    "\n",
    "print(\n",
    "0.03333-0.03473525894473855,\n",
    "0.13333-0.11671047005432153,\n",
    "0.17333-0.1960735896912602,\n",
    "0.24667-0.2196024204542114,\n",
    "0.18667-0.18446603318153765,\n",
    "0.07333-0.1239611742979933,\n",
    "0.06-0.06941825760687625,\n",
    "0.06-0.03332076365130061,\n",
    "0.02-0.013994720733546255,\n",
    "0.01333-0.005224695740523936,\n",
    ")\n"
   ]
  },
  {
   "cell_type": "raw",
   "metadata": {},
   "source": [
    "\n",
    "[0 1 1 2 2 2 2 2 2 2 2 2 2 2 2 2 2 2 2 3 3 3 3 3 3 3 3 3 3 3 3 3 3 3 3 3 3\n",
    " 3 3 3 4 4 4 4 4 4 4 4 4 4 4 4 4 4 4 4 4 4 4 4 4 4 4 4 4 4 4 4 4 4 4 4 4 4\n",
    " 4 4 4 4 5 5 5 5 5 5 5 5 5 5 5 5 5 5 5 5 5 5 5 5 5 5 5 5 5 5 5 5 5 5 5 5 5\n",
    " 5 5 5 5 5 5 6 6 6 6 6 6 6 6 6 6 6 6 6 6 6 6 6 6 6 6 6 6 6 6 7 7 7 7 7 7 7\n",
    " 8 8]\n",
    "[2 2 1 1 1 3 1 2 1 2 8 1 1 1 1 1 4 1 2 6 1 3 5 3 1 2 2 1 1 2 2 1 1 3 4 1 1\n",
    " 1 1 2 3 2 1 1 1 5 2 1 4 1 3 1 2 9 2 2 2 1 5 3 1 1 7 4 1 1 2 1 2 2 1 1 1 2\n",
    " 2 1 1 3 4 1 2 2 2 1 1 5 1 2 1 7 3 1 3 3 2 3 6 2 1 1 1 1 1 1 8 1 5 1 2 1 2\n",
    " 1 7 1 1 1 1 1 9 1 4 2 1 3 3 2 2 2 1 1 2 1 1 1 5 1 1 1 3 1 2 2 2 1 2 2 2 1\n",
    " 1 3]\n",
    "[1 3 2 3 4 3 7 3 3 3 6 2 3 4 2 3 2 5 2 5 2 4 1 3 2 3 4 3 7 3 2 4 1 7 3 4 0\n",
    " 4 5 1 3 3 2 2 4 2 4 7 7 3 5 3 6 3 4 2 3 0 1 1 7 3 4 2 3 3 6 6 2 1 1 1 3 5\n",
    " 1 2 5 4 1 4 6 9 7 0 4 1 4 6 4 3 8 4 2 4 8 1 1 5 6 4 2 2 3 3 5 4 3 6 3 3 3\n",
    " 4 2 9 0 3 3 3 4 4 7 6 3 2 5 1 2 3 5 3 1 0 4 4 4 1 1 8 5 4 1 2 4 2 3 2 1 7\n",
    " 2 2]"
   ]
  },
  {
   "cell_type": "code",
   "execution_count": 4,
   "metadata": {},
   "outputs": [
    {
     "ename": "NameError",
     "evalue": "name 'с' is not defined",
     "output_type": "error",
     "traceback": [
      "\u001b[0;31m---------------------------------------------------------------------------\u001b[0m",
      "\u001b[0;31mNameError\u001b[0m                                 Traceback (most recent call last)",
      "\u001b[0;32m<ipython-input-4-451928d4be60>\u001b[0m in \u001b[0;36m<module>\u001b[0;34m\u001b[0m\n\u001b[0;32m----> 1\u001b[0;31m \u001b[0;32mfor\u001b[0m \u001b[0mi\u001b[0m \u001b[0;32min\u001b[0m \u001b[0mrange\u001b[0m\u001b[0;34m(\u001b[0m\u001b[0mlen\u001b[0m\u001b[0;34m(\u001b[0m\u001b[0mс\u001b[0m\u001b[0;34m)\u001b[0m\u001b[0;34m)\u001b[0m\u001b[0;34m:\u001b[0m\u001b[0;34m\u001b[0m\u001b[0;34m\u001b[0m\u001b[0m\n\u001b[0m\u001b[1;32m      2\u001b[0m     \u001b[0mс\u001b[0m\u001b[0;34m[\u001b[0m\u001b[0mi\u001b[0m\u001b[0;34m]\u001b[0m\u001b[0;34m-=\u001b[0m\u001b[0;36m1\u001b[0m\u001b[0;34m\u001b[0m\u001b[0;34m\u001b[0m\u001b[0m\n\u001b[1;32m      3\u001b[0m \u001b[0;34m\u001b[0m\u001b[0m\n\u001b[1;32m      4\u001b[0m \u001b[0;32mfor\u001b[0m \u001b[0mi\u001b[0m \u001b[0;32min\u001b[0m \u001b[0mrange\u001b[0m\u001b[0;34m(\u001b[0m\u001b[0;36m10\u001b[0m\u001b[0;34m)\u001b[0m\u001b[0;34m:\u001b[0m\u001b[0;34m\u001b[0m\u001b[0;34m\u001b[0m\u001b[0m\n\u001b[1;32m      5\u001b[0m     \u001b[0;32mfor\u001b[0m \u001b[0mj\u001b[0m \u001b[0;32min\u001b[0m \u001b[0mrange\u001b[0m\u001b[0;34m(\u001b[0m\u001b[0;36m15\u001b[0m\u001b[0;34m)\u001b[0m\u001b[0;34m:\u001b[0m\u001b[0;34m\u001b[0m\u001b[0;34m\u001b[0m\u001b[0m\n",
      "\u001b[0;31mNameError\u001b[0m: name 'с' is not defined"
     ]
    }
   ],
   "source": []
  },
  {
   "cell_type": "code",
   "execution_count": null,
   "metadata": {},
   "outputs": [],
   "source": []
  }
 ],
 "metadata": {
  "kernelspec": {
   "display_name": "Python 3",
   "language": "python",
   "name": "python3"
  },
  "language_info": {
   "codemirror_mode": {
    "name": "ipython",
    "version": 3
   },
   "file_extension": ".py",
   "mimetype": "text/x-python",
   "name": "python",
   "nbconvert_exporter": "python",
   "pygments_lexer": "ipython3",
   "version": "3.6.8"
  }
 },
 "nbformat": 4,
 "nbformat_minor": 2
}
