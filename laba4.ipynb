{
 "cells": [
  {
   "cell_type": "code",
   "execution_count": 1,
   "metadata": {
    "collapsed": true
   },
   "outputs": [],
   "source": [
    "# построить кубический сплайн для функции, заданной в узлах интерполяции, предполагая, что сплайн имеет нулевую кривизну при \n",
    "# х = -2.0 и х = 2.0. Вычислить значение в точке xstar = 0.2\n",
    "# x = [-2.0, -1.0, 0.0, 1.0, 2.0]; y = [0.13534, 0.36788, 1.0, 2.7183, 7.3891]"
   ]
  },
  {
   "cell_type": "code",
   "execution_count": 126,
   "metadata": {},
   "outputs": [
    {
     "name": "stdout",
     "output_type": "stream",
     "text": [
      "Значение сплайна в точке 2.0  =  7.3891\n",
      "Первая производная сплайна в точке 2.0  =  4.883333823529411\n",
      "Вторая производная сплайна в точке 2.0  =  0.0\n",
      "coeff [0, 0.36788, 1.0, 2.7183, 7.3891]\n",
      "coeff [0, 0.7669894117647058, 1.7711771568627452, 3.5526019607843136, 4.883333823529411]\n",
      "coeff [0, 1.2025111764705882, 2.412564705882353, 3.8256088235294112, 0]\n",
      "coeff [0, 0.40083705882352944, 0.4033511764705883, 0.47101470588235267, -1.2752029411764705]\n"
     ]
    }
   ],
   "source": [
    "import numpy as np \n",
    "import matplotlib.pyplot as plt\n",
    "import math\n",
    "\n",
    "\n",
    "# A[i] = B[i] = 1  i = 1,n-1 ; A[1]=0, B[n-1]=0 \n",
    "    # C[i] = 4 ; i = 1,n\n",
    "    # F[i] = 6*(y[i-1] - 2*y[i] + y[i+1])/h**2     i = 1,n-1\n",
    "    # x[0] = x[n] = 0\n",
    "    # c помощью цикла найти a[i+1] = -B[i]/(A[i]*a[i] - C[i]) ; b[i+1] = (F[i] - A[i]*b[i])/(A[i]a[i] + C[i])\n",
    "    # с учетом первых двух условий a[i+1] = -1/(a[i] - 4) ; b[i+1] = (F[i] - b[i])/(a[i] + 4) i = 1,n-1 ; a[1]=0, b[1]=0\n",
    "    # x[n] = 0 в процессе обратной прогонки найдем неизвестные x[i] , i = n-1, 1\n",
    "    # x[i] = a[i+1]*x[i+1] + b[i+1], return x[i] \n",
    "    \n",
    "def sweepmet(y, h, n):  # метод прогонки\n",
    "    x = [0 for i in range(n)]\n",
    "    a = [0 for i in range(n)]\n",
    "    b = [0 for i in range(n)]\n",
    "    F = [0 for i in range(n)]\n",
    "    for i in range(1, n-1):\n",
    "        F[i] = 6*(y[i-1] - 2*y[i] + y[i+1])/h**2 \n",
    "    for i in range(1, n-1):\n",
    "        a[i+1] = -1/(a[i] - 4)\n",
    "    for i in range(1, n-1):\n",
    "        b[i+1] = (F[i] - b[i])/(a[i] + 4)\n",
    "    x[n-1] = 0    \n",
    "    for i in range(n-2, 0, -1):\n",
    "        x[i] = a[i+1]*x[i+1] + b[i+1] \n",
    "    return x\n",
    "\n",
    "    \n",
    "    # a[i] = y[i] i = 1,n\n",
    "    # c[i-1] + 4*c[i] + c[i+1] = 6*(y[i-1] - 2*y[i] + y[i])/h**2 ; i = 1,n-1 ; c[0] = c[n] = 0 методом прогонки(sweep method)\n",
    "    # d[i] = (c[i] - c[i-1])/h  i = 1,n\n",
    "    # b[i] = h*c[i]/2 - h**2*d[i]/6 + (y[i] - y[i-1])/h  i = 1,n\n",
    "    # найти n-1 неизвестные с[i] ,через них найти коэффициенты d[i] и b[i], построить n полиномов                     \n",
    "    # Sx[i] = a[i] + b[i]*(xstar - x[i]) + (c[i]/2)*(xstar - x[i])**2  +  (d[i]/6)*(xstar - x[i])**3 i = 1, n\n",
    "def spline(x, y, xstar):\n",
    "    h = x[1]-x[0]\n",
    "    n = len(x)\n",
    "    a = [0]\n",
    "    d = [0]\n",
    "    b = [0]\n",
    "    for i in range(1, n):\n",
    "        a.append(y[i])  # коэффициеты а равны значениям функции\n",
    "    c = sweepmet(y, h, n)  # функция метода прогонки, считающая коэффициенты с\n",
    "    #print(\"c = \", c)\n",
    "    for i in range(1, n):\n",
    "        d.append((c[i] - c[i-1])/h)    # вычисляем коэффициенты d\n",
    "    for i in range(1, n):\n",
    "        b.append(h*c[i]/2 - (h**2)*d[i]/6 + (y[i] - y[i-1])/h)  # вычисляем коэффициенты b\n",
    "    #  построение сплайна все\n",
    "    #  вычисляем значение в точке\n",
    "    D = [0,0,0, a, b, c, d]\n",
    "    for i in range(1, n):\n",
    "        if (xstar <= x[i]) and (x[i-1] < xstar) :\n",
    "            D[0] = a[i] + b[i]*(xstar - x[i]) + (c[i]/2)*(xstar - x[i])**2  +  (d[i]/6)*(xstar - x[i])**3\n",
    "            D[1] = b[i] + c[i]*(xstar - x[i]) + (d[i]/2)*(xstar - x[i])**2\n",
    "            D[2] = c[i] + d[i]*(xstar - x[i])\n",
    "    return D\n",
    "    \n",
    "\n",
    "x = [-2.0, -1.0, 0.0, 1.0, 2.0]\n",
    "y = [0.13534, 0.36788, 1.0, 2.7183, 7.3891]\n",
    "xstar = 2.0\n",
    "D = spline(x, y, xstar)\n",
    "print(\"Значение сплайна в точке\", xstar,\" = \", D[0])\n",
    "print(\"Первая производная сплайна в точке\", xstar,\" = \", D[1])\n",
    "print(\"Вторая производная сплайна в точке\", xstar,\" = \", D[2])\n",
    "for i in range(4):\n",
    "    print(\"coeff\", D[i+3])"
   ]
  },
  {
   "cell_type": "code",
   "execution_count": 116,
   "metadata": {},
   "outputs": [
    {
     "data": {
      "image/png": "[encoded data removed]",
      "text/plain": [
       "<matplotlib.figure.Figure at 0x245290b8320>"
      ]
     },
     "metadata": {},
     "output_type": "display_data"
    },
    {
     "data": {
      "image/png": "[encoded data removed]",
      "text/plain": [
       "<matplotlib.figure.Figure at 0x2452906a2e8>"
      ]
     },
     "metadata": {},
     "output_type": "display_data"
    }
   ],
   "source": [
    "x = [-2.0, -1.0, 0.0, 1.0, 2.0]\n",
    "y = [0.13534, 0.36788, 1.0, 2.7183, 7.3891]\n",
    "f_x = np.arange(-1.999,2.0, 0.001) \n",
    "f_y = [spline(x, y, i)[1] for i in f_x] \n",
    "plt.plot(x, y,'o',f_x,f_y) \n",
    "plt.grid(True)\n",
    "plt.ylim(-5, 10)\n",
    "plt.xlim(-5,10)\n",
    "plt.show()\n",
    "plt.plot(x, y,'o',f_x,f_y) \n",
    "plt.grid(True)\n",
    "plt.ylim(-0.1, 8)\n",
    "plt.xlim(-2.1,2.1)\n",
    "plt.show()"
   ]
  },
  {
   "cell_type": "code",
   "execution_count": 28,
   "metadata": {},
   "outputs": [
    {
     "name": "stdout",
     "output_type": "stream",
     "text": [
      "0 2.3974800000000003 6.517080000000001 17.714999999999996 0 \n",
      "0 0 0.25 0.26666666666666666 0.26785714285714285 \n",
      "0 0 0.5993700000000001 1.3924023529411766 3.8256088235294112 \n",
      "0 1.2025111764705882 2.412564705882353 3.8256088235294112 0 0 1.2025111764705882 1.210053529411765 1.413044117647058 -3.8256088235294112 \n",
      "----------------\n",
      "0 0.6333770588235293 1.6367267647058825 3.3955970588235296 5.308401470588235 "
     ]
    }
   ],
   "source": [
    "n=5\n",
    "F = [0 for i in range(len(y))]\n",
    "x = [0 for i in range(n)]\n",
    "a = [0 for i in range(n)]\n",
    "b = [0 for i in range(n)]\n",
    "\n",
    "h = 1\n",
    "y = [0.13534, 0.36788, 1.0, 2.7183, 7.3891]\n",
    "for i in range(1, 4):\n",
    "    F[i] = (6*(y[i-1] - 2*y[i] + y[i+1])/h**2)\n",
    "for i in range(len(F)):\n",
    "    print(F[i], end=' ')\n",
    "for i in range(1, n-1):\n",
    "    a[i+1] = -1/(a[i] - 4)\n",
    "for i in range(1, n-1):\n",
    "    b[i+1] = (F[i] - b[i])/(a[i] + 4) \n",
    "\n",
    "print()\n",
    "for i in range(n):\n",
    "    print(a[i], end=' ')\n",
    "print()    \n",
    "for i in range(n):\n",
    "    print(b[i], end=' ')\n",
    "x[n-1] = 0    \n",
    "for i in range(n-2, 0, -1):\n",
    "    x[i] = a[i+1]*x[i+1] + b[i+1]\n",
    "print()    \n",
    "for i in range(n):\n",
    "    print(x[i], end=' ')\n",
    "    \n",
    "d = [0]\n",
    "b = [0]\n",
    "c = x\n",
    "for i in range(1, n):\n",
    "    d.append((c[i] - c[i-1])/h)\n",
    "for i in range(1, n):\n",
    "    b.append(h*c[i]/2 - (h**2)*d[i]/6 + (y[i] - y[i-1])/h)\n",
    "    \n",
    "\n",
    "for i in range(n):\n",
    "    print(d[i], end=' ')\n",
    "print(\"\\n----------------\")    \n",
    "for i in range(n):\n",
    "    print(b[i], end=' ')\n"
   ]
  },
  {
   "cell_type": "code",
   "execution_count": null,
   "metadata": {
    "collapsed": true
   },
   "outputs": [],
   "source": []
  }
 ],
 "metadata": {
  "kernelspec": {
   "display_name": "Python 3",
   "language": "python",
   "name": "python3"
  },
  "language_info": {
   "codemirror_mode": {
    "name": "ipython",
    "version": 3
   },
   "file_extension": ".py",
   "mimetype": "text/x-python",
   "name": "python",
   "nbconvert_exporter": "python",
   "pygments_lexer": "ipython3",
   "version": "3.6.2"
  }
 },
 "nbformat": 4,
 "nbformat_minor": 2
}
