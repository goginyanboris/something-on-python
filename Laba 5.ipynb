{
 "cells": [
  {
   "cell_type": "code",
   "execution_count": 11,
   "metadata": {},
   "outputs": [
    {
     "name": "stdout",
     "output_type": "stream",
     "text": [
      "Метод простых итераций:\n",
      "x1 = 2.1705381712898806 \n",
      "x2 = 0.6185831206660485\n"
     ]
    }
   ],
   "source": [
    "# метод простой итерации\n",
    "import numpy as np\n",
    "import math as m\n",
    "\n",
    "def func2(x, y):\n",
    "    return m.log(6-x)/x  #6 - m.exp(x*y)\n",
    "\n",
    "def func1(x, y):\n",
    "    return m.sqrt(1+6*y)\n",
    "\n",
    "def simp_it(x, eps):\n",
    "    i=0\n",
    "    macs=100000\n",
    "    while macs >= eps:\n",
    "        #print(x[0][i],x[1][i])\n",
    "        x[0].append(func1(x[0][i],x[1][i]))\n",
    "        x[1].append(func2(x[0][i],x[1][i]))\n",
    "        i+=1 \n",
    "        #print(x)\n",
    "        #print(\"x0\", x[0][len(x[0])-1]-x[0][len(x[0])-2])\n",
    "        macs = max(abs(x[0][len(x[0])-1]-x[0][len(x[0])-2]), abs(x[1][len(x[1])-1]-x[1][len(x[1])-2]))\n",
    "    return x[0][len(x[0])-1], x[1][len(x[1])-1]\n",
    "\n",
    "    \n",
    "\n",
    "x=[[2], [2]]\n",
    "ans1=[[0],[0]]\n",
    "ans1[0], ans1[1] = simp_it(x, 0.0001)\n",
    "print(\"Метод простых итераций:\\nx1 =\", ans1[0], \"\\nx2 =\", ans1[1])"
   ]
  },
  {
   "cell_type": "code",
   "execution_count": 15,
   "metadata": {},
   "outputs": [
    {
     "name": "stdout",
     "output_type": "stream",
     "text": [
      "Метод Ньютона:\n",
      "x1 = 2.170606198473129 \n",
      "x2 = 0.618588209024658\n"
     ]
    }
   ],
   "source": [
    "def func(x1, x2):\n",
    "    #print(\"\\n\")\n",
    "    #print(np.array([[-m.exp(x1*x2) - x1 + 6], [-x1**2 + 6*x2 + 1]]))\n",
    "    return np.array([[-m.exp(x1*x2) - x1 + 6], [-x1**2 + 6*x2 + 1]])\n",
    "\n",
    "def jacob(x1, x2):\n",
    "    #print(np.array([[x2 * m.exp(x1*x2)+1, x1 * m.exp(x1*x2)], [2*x1, -6]]))\n",
    "    return np.array([[x2 * m.exp(x1*x2)+1, x1 * m.exp(x1*x2)], [2*x1, -6]])  # a11, a12, a21, a22\n",
    "\n",
    "def newton(z, eps): # z - начальное приближение, eps - точность\n",
    "    k=0\n",
    "    macs=1000\n",
    "\n",
    "    x=[[z[0]],[z[1]]]\n",
    "    while macs >= eps:\n",
    "        dx = np.linalg.solve(jacob(x[0][k], x[1][k]), func(x[0][k], x[1][k]))\n",
    "        #print(dx[0][0] + x[0][k])\n",
    "        x[0].append(dx[0][0] + x[0][k])\n",
    "        x[1].append(dx[1][0] + x[1][k])\n",
    "        k+=1\n",
    "        #print(x)\n",
    "        macs = max(abs(x[0][len(x[0]) - 1] - x[0][len(x[0]) - 2]), abs(x[1][len(x[1])-1] - x[1][len(x[1]) - 2]))\n",
    "        # print(macs)\n",
    "    return np.array([x[0][len(x[0]) - 1], x[1][len(x[1]) - 1]])\n",
    "\n",
    "z=[1,3]\n",
    "ans2=newton(z, 0.01)\n",
    "print(\"Метод Ньютона:\\nx1 =\", ans2[0], \"\\nx2 =\", ans2[1])"
   ]
  },
  {
   "cell_type": "code",
   "execution_count": 16,
   "metadata": {},
   "outputs": [
    {
     "name": "stdout",
     "output_type": "stream",
     "text": [
      "Подстановка\n",
      "Метод простых итераций:\n",
      " -0.00025274801495811516 -0.0002627709698721503\n",
      "Метод Ньютона:\n",
      " 1.8712415009503047e-05 2.014702019437209e-06\n"
     ]
    }
   ],
   "source": [
    "func1 = lambda x1, x2: m.exp(x1*x2) + x1 - 6\n",
    "func2 = lambda x1, x2: x1**2 - 6*x2 - 1\n",
    "\n",
    "print(\"Подстановка\\nМетод простых итераций:\\n\", func1(ans1[0], ans1[1]), func2(ans1[0], ans1[1]))\n",
    "print(\"Метод Ньютона:\\n\", func1(ans2[0], ans2[1]), func2(ans2[0], ans2[1]))"
   ]
  },
  {
   "cell_type": "markdown",
   "metadata": {},
   "source": [
    "Задание.\n",
    "в методе ньютона провести расчеты с несколькими точностями:\n",
    "    10^(-2), 10^(-4), 10^(-8), 10^(-16)"
   ]
  },
  {
   "cell_type": "code",
   "execution_count": 22,
   "metadata": {},
   "outputs": [
    {
     "name": "stdout",
     "output_type": "stream",
     "text": [
      "Метод Ньютона с точностью 0.01:\n",
      "x1 = 2.170606198473129 \n",
      "x2 = 0.618588209024658\n",
      "Метод Ньютона:\n",
      " 1.8712415009503047e-05 2.014702019437209e-06\n",
      "\n",
      "Метод Ньютона с точностью 0.0001:\n",
      "x1 = 2.170603906712939 \n",
      "x2 = 0.6185868866387033\n",
      "Метод Ньютона:\n",
      " 4.68132199671345e-11 5.252687174106541e-12\n",
      "\n",
      "Метод Ньютона с точностью 1e-06:\n",
      "x1 = 2.170603906707174 \n",
      "x2 = 0.6185868866354077\n",
      "Метод Ньютона:\n",
      " 0.0 0.0\n",
      "\n",
      "Метод Ньютона с точностью 1e-08:\n",
      "x1 = 2.170603906707174 \n",
      "x2 = 0.6185868866354077\n",
      "Метод Ньютона:\n",
      " 0.0 0.0\n",
      "\n"
     ]
    }
   ],
   "source": [
    "z=[1,3]\n",
    "for i in range(1, 5):\n",
    "    eps = (10)**(-i*2)\n",
    "    ans2=newton(z, eps)\n",
    "    print(\"Метод Ньютона с точностью \" + str(eps) + \":\\nx1 =\", ans2[0], \"\\nx2 =\", ans2[1])\n",
    "    print(\"Метод Ньютона:\\n\", func1(ans2[0], ans2[1]), func2(ans2[0], ans2[1]))\n",
    "    print()"
   ]
  },
  {
   "cell_type": "code",
   "execution_count": null,
   "metadata": {},
   "outputs": [],
   "source": []
  }
 ],
 "metadata": {
  "kernelspec": {
   "display_name": "Python 3",
   "language": "python",
   "name": "python3"
  },
  "language_info": {
   "codemirror_mode": {
    "name": "ipython",
    "version": 3
   },
   "file_extension": ".py",
   "mimetype": "text/x-python",
   "name": "python",
   "nbconvert_exporter": "python",
   "pygments_lexer": "ipython3",
   "version": "3.7.1"
  }
 },
 "nbformat": 4,
 "nbformat_minor": 2
}
